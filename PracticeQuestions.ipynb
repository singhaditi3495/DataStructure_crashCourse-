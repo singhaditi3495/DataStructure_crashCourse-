{
 "cells": [
  {
   "cell_type": "code",
   "execution_count": 1,
   "id": "6ba751b9",
   "metadata": {},
   "outputs": [
    {
     "name": "stdout",
     "output_type": "stream",
     "text": [
      "[36, 64, 9, 1, 16]\n"
     ]
    }
   ],
   "source": [
    "#Square of an element\n",
    "nums=[6, -8, 3, -1, 4]\n",
    "sqrval = [i*i for i in nums]\n",
    "print(sqrval)"
   ]
  },
  {
   "cell_type": "code",
   "execution_count": 14,
   "id": "c6682ce4",
   "metadata": {},
   "outputs": [
    {
     "name": "stdout",
     "output_type": "stream",
     "text": [
      "[1, 9, 16, 36, 64]\n"
     ]
    }
   ],
   "source": [
    "def sortsqr(nums):\n",
    "    sqrval=[i*i for i in nums]\n",
    "    for i in range(0,len(sqrval)):\n",
    "        pos=i\n",
    "        while pos > 0 and sqrval[pos]<sqrval[pos-1]:\n",
    "            sqrval[pos],sqrval[pos-1]=sqrval[pos-1],sqrval[pos]\n",
    "            pos=pos-1\n",
    "    return sqrval\n",
    "nums=[6,-8,3,-1,4]\n",
    "print(sortsqr(nums))\n",
    "        "
   ]
  },
  {
   "cell_type": "code",
   "execution_count": 16,
   "id": "cec488ad",
   "metadata": {},
   "outputs": [
    {
     "name": "stdout",
     "output_type": "stream",
     "text": [
      "3\n"
     ]
    }
   ],
   "source": [
    "#MAx Consecutive one's\n",
    "\n",
    "#A: [1, 1, 3, 2, 3, 1, 1, 1]\n",
    "#Max consecutive 1s: 3\n",
    "    \n",
    "def maxconsecutive(nums):\n",
    "    countvar=0\n",
    "    maxval=0\n",
    "    for i in nums:\n",
    "        if i==1:\n",
    "            countvar+=1\n",
    "            maxval=max(maxval,countvar)#max(0,1)-> max(1,2)2->max(2,1)2 -> max(2,2)2 -> max(2,3) : 3\n",
    "            \n",
    "        else:\n",
    "            countvar=0\n",
    "    return maxval\n",
    "\n",
    "print(maxconsecutive([1, 1, 3, 2, 3, 1, 1, 1]))\n",
    "        \n",
    "        "
   ]
  },
  {
   "cell_type": "code",
   "execution_count": 21,
   "id": "894b026c",
   "metadata": {},
   "outputs": [],
   "source": [
    "#Square Root \n",
    "\n",
    "import math\n",
    "def findSqrt(n):\n",
    "    sqrtNum = n / 2\n",
    "    temp = 0\n",
    "\n",
    "    while sqrtNum != temp:\n",
    "        temp = sqrtNum\n",
    "        sqrtNum = (n / temp + temp) / 2\n",
    "\n",
    "    return math.trunc(sqrtNum)"
   ]
  },
  {
   "cell_type": "code",
   "execution_count": 22,
   "id": "f448fc18",
   "metadata": {},
   "outputs": [
    {
     "name": "stdout",
     "output_type": "stream",
     "text": [
      "3\n"
     ]
    }
   ],
   "source": [
    "print(findSqrt(12))#remove decimal part"
   ]
  },
  {
   "cell_type": "code",
   "execution_count": 23,
   "id": "e9c3c10d",
   "metadata": {},
   "outputs": [],
   "source": [
    "class Solution:\n",
    "\tdef searchRoot(self, n: int) -> int:\n",
    "\t\t# add your logic here\n",
    "\t\timport math\n",
    "\t\tfinalval=abs(n**0.5)\n",
    "\t\treturn math.trunc(finalval)"
   ]
  },
  {
   "cell_type": "code",
   "execution_count": 24,
   "id": "fec934e5",
   "metadata": {},
   "outputs": [
    {
     "name": "stdout",
     "output_type": "stream",
     "text": [
      "3\n"
     ]
    }
   ],
   "source": [
    "A=Solution()\n",
    "res=A.searchRoot(12)\n",
    "print(res)"
   ]
  },
  {
   "cell_type": "code",
   "execution_count": 44,
   "id": "7de8534f",
   "metadata": {},
   "outputs": [
    {
     "name": "stdout",
     "output_type": "stream",
     "text": [
      "final value will be ->  (5, [1, 2, 3, 4, 5])\n"
     ]
    }
   ],
   "source": [
    "#Unique Elements in Sorted Array\n",
    "\n",
    "class Solution:\n",
    "    def removeDuplicates(self,A):\n",
    "        count=0\n",
    "        emplist=[]\n",
    "        for i in A:\n",
    "            if i not in emplist:\n",
    "                emplist.append(i)\n",
    "                count=count+1\n",
    "        return len(emplist),emplist\n",
    "\n",
    "A=Solution()\n",
    "nums=[1,2,3,3,3,4,5,5]\n",
    "res=A.removeDuplicates(nums)\n",
    "print(\"final value will be -> \",res)"
   ]
  },
  {
   "cell_type": "code",
   "execution_count": 57,
   "id": "96b16d63",
   "metadata": {},
   "outputs": [
    {
     "name": "stdout",
     "output_type": "stream",
     "text": [
      "5.0\n",
      "0\n",
      "final value will be ->  True\n"
     ]
    }
   ],
   "source": [
    "#Is Perfect Square\n",
    "#Given a positive integer num, write a function that returns true if num is a perfect square else false.\n",
    "\n",
    "#Note: Do not use the in-built methods to calculate square root or power.\n",
    "#isPerfectSquare(25) => true\n",
    "#isPerfectSquare(30) => false\n",
    "\n",
    "class Solution:\n",
    "    def isPerfectSquare(self, n: int) -> bool:\n",
    "        \n",
    "        number=n**0.5\n",
    "        print(number)\n",
    "        #n = len(str(a).split(\".\")[1])\n",
    "        number_dec = str(number-int(number))[2:]\n",
    "        print(number_dec)\n",
    "        if number_dec == '0':\n",
    "            return True\n",
    "        else:\n",
    "            return False\n",
    "        #return number,number_dec\n",
    "            \n",
    "\n",
    "        \n",
    "        \n",
    "A=Solution()\n",
    "nums=25\n",
    "res=A.isPerfectSquare(nums)\n",
    "print(\"final value will be -> \",res)\n",
    "\n",
    "\n"
   ]
  },
  {
   "cell_type": "code",
   "execution_count": 62,
   "id": "f4d664ad",
   "metadata": {},
   "outputs": [],
   "source": [
    "def per(n):\n",
    "    a = round(n**0.5,2)\n",
    "    print(a)\n",
    "    print(str(a).split('.')[1])\n",
    "    if int(str(a).split('.')[1])==0:\n",
    "        \n",
    "        return True\n",
    "    return False\n"
   ]
  },
  {
   "cell_type": "code",
   "execution_count": 63,
   "id": "baef68d4",
   "metadata": {},
   "outputs": [
    {
     "name": "stdout",
     "output_type": "stream",
     "text": [
      "1597.03\n",
      "03\n",
      "False\n"
     ]
    }
   ],
   "source": [
    "print(per(2550505))"
   ]
  },
  {
   "cell_type": "code",
   "execution_count": 66,
   "id": "53f46268",
   "metadata": {},
   "outputs": [
    {
     "name": "stdout",
     "output_type": "stream",
     "text": [
      "even digits will be ->  [42, 5775, 34, 45, 3556]\n"
     ]
    }
   ],
   "source": [
    "#Even Number of Digits\n",
    "#Given an array of integers, find the elements which have an even number of digits.\n",
    "#Array: [42, 564, 5775, 34, 123, 454, 1, 5, 45, 3556, 23442]\n",
    "#Answer: 42, 5775, 34, 45, 3556\n",
    "\n",
    "def evendigits(nums):\n",
    "    emplist=[]\n",
    "    for i in nums:\n",
    "        if len(str(i))%2==0:\n",
    "            emplist.append(i)\n",
    "    return emplist\n",
    "    \n",
    "    \n",
    "    \n",
    "    \n",
    "nums=[42, 564, 5775, 34, 123, 454, 1, 5, 45, 3556, 23442]\n",
    "print(\"even digits will be -> \",evendigits(nums))"
   ]
  },
  {
   "cell_type": "code",
   "execution_count": 70,
   "id": "c088a3ea",
   "metadata": {},
   "outputs": [
    {
     "name": "stdout",
     "output_type": "stream",
     "text": [
      "fl\n"
     ]
    }
   ],
   "source": [
    "#prefix of a number\n",
    "\n",
    "def patterncheck(nums):\n",
    "    minval=nums[0]\n",
    "    empstr=''\n",
    "    for i in range(len(minval)):\n",
    "        for index,value in enumerate(nums):\n",
    "            if minval[i]==value[i]:\n",
    "                continue\n",
    "           \n",
    "            else:\n",
    "                return empstr\n",
    "        empstr=empstr+minval[i]\n",
    "    return empstr\n",
    "        \n",
    "        \n",
    "\n",
    "num=[\"flow\",\"flower\",\"flaw\"]\n",
    "#o/p -> fl\n",
    "print(patterncheck(num))"
   ]
  },
  {
   "cell_type": "code",
   "execution_count": null,
   "id": "cca5f548",
   "metadata": {},
   "outputs": [],
   "source": []
  },
  {
   "cell_type": "code",
   "execution_count": null,
   "id": "fe6d99fc",
   "metadata": {},
   "outputs": [],
   "source": []
  }
 ],
 "metadata": {
  "kernelspec": {
   "display_name": "Python 3 (ipykernel)",
   "language": "python",
   "name": "python3"
  },
  "language_info": {
   "codemirror_mode": {
    "name": "ipython",
    "version": 3
   },
   "file_extension": ".py",
   "mimetype": "text/x-python",
   "name": "python",
   "nbconvert_exporter": "python",
   "pygments_lexer": "ipython3",
   "version": "3.9.7"
  }
 },
 "nbformat": 4,
 "nbformat_minor": 5
}
