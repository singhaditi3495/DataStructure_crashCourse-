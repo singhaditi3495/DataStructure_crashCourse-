{
 "cells": [
  {
   "cell_type": "code",
   "execution_count": 3,
   "id": "203498f8",
   "metadata": {},
   "outputs": [
    {
     "name": "stdout",
     "output_type": "stream",
     "text": [
      "[-10, -1, 2, 5, 6, 7, 8, 9, 49, 99, 100, 200, 300]\n"
     ]
    }
   ],
   "source": [
    "#InsertionSort\n",
    "#Shift the smaller number to the left of it\n",
    "def insertionsort(nums):\n",
    "    for i in range (1,len(nums)):\n",
    "        pos=i\n",
    "        while pos>0 and nums[pos]<nums[pos-1]:\n",
    "            nums[pos],nums[pos-1]=nums[pos-1],nums[pos]\n",
    "            pos=pos-1\n",
    "    return nums\n",
    "\n",
    "print(insertionsort([6,7,2,-1,8,5,9,-10,100,99,200,49,300]))"
   ]
  },
  {
   "cell_type": "code",
   "execution_count": 5,
   "id": "ae9964d7",
   "metadata": {},
   "outputs": [
    {
     "name": "stdout",
     "output_type": "stream",
     "text": [
      "[-10, -1, 2, 5, 6, 7, 8, 9, 49, 99, 100, 200, 300]\n"
     ]
    }
   ],
   "source": [
    "#SelectionSort\n",
    "#Shift the smaller number to the left of it\n",
    "def selectionsort(nums):\n",
    "    for i in range(0,len(nums)-1):\n",
    "        pos=i\n",
    "        for j in range(i+1,len(nums)):\n",
    "            if nums[j]<nums[pos]:\n",
    "                pos=j\n",
    "        nums[i],nums[pos]=nums[pos],nums[i]\n",
    "    return nums\n",
    "\n",
    "print(selectionsort([6,7,2,-1,8,5,9,-10,100,99,200,49,300]))\n",
    "            "
   ]
  },
  {
   "cell_type": "code",
   "execution_count": 17,
   "id": "08829777",
   "metadata": {},
   "outputs": [
    {
     "name": "stdout",
     "output_type": "stream",
     "text": [
      "before sorting of the list ->  [6, 7, 2, -1, 8, 5, 9, -10, 100, 99, 200, 49, 300]\n",
      "sorted list will be ->  [-10, -1, 2, 5, 6, 7, 8, 9, 49, 99, 100, 200, 300]\n"
     ]
    }
   ],
   "source": [
    "#Bubble Sort\n",
    "#shift the largest number to the right of the list\n",
    "def bubblesort(nums):\n",
    "    for i in range(0,len(nums)):\n",
    "        \n",
    "        for j in range(0,len(nums)-1-i):\n",
    "            if nums[j]>nums[j+1]:\n",
    "                nums[j],nums[j+1]=nums[j+1],nums[j]\n",
    "    return nums\n",
    "\n",
    "listval=[6,7,2,-1,8,5,9,-10,100,99,200,49,300]\n",
    "print(\"before sorting of the list -> \",listval)\n",
    "print(\"sorted list will be -> \",bubblesort(listval))\n",
    "#print(\"after sorting of the list -> \",listval)\n",
    "\n",
    "                \n",
    "        "
   ]
  },
  {
   "cell_type": "code",
   "execution_count": 26,
   "id": "86c46ddd",
   "metadata": {},
   "outputs": [],
   "source": [
    "#This function can be used separately if our list is sorted\n",
    "def mergesort(nums1,nums2):\n",
    "    lenA=len(nums1)\n",
    "    lenB=len(nums2)\n",
    "    i,j=0,0\n",
    "    emplist=[]\n",
    "    while i+j < lenA+lenB:\n",
    "        if i == lenA:\n",
    "            emplist.append(nums2[j])\n",
    "            j=j+1\n",
    "        \n",
    "        elif j==lenB:\n",
    "            emplist.append(nums1[i])\n",
    "            i=i+1\n",
    "            \n",
    "        elif nums1[i]>=nums2[j]:\n",
    "            emplist.append(nums2[j])\n",
    "            j=j+1\n",
    "        elif nums1[i]<nums2[j]:\n",
    "            emplist.append(nums1[i])\n",
    "            i=i+1\n",
    "    return emplist\n",
    "\n",
    "            "
   ]
  },
  {
   "cell_type": "code",
   "execution_count": null,
   "id": "e5747110",
   "metadata": {},
   "outputs": [],
   "source": [
    "def merge(nums,left,right):\n",
    "    if right-left<=1:\n",
    "        return nums[left:right]\n",
    "    if right-left>1:\n",
    "        mid=(left+right)//2\n",
    "        L=merge(nums,left,mid)\n",
    "        R=merge(nums,mid,right)\n",
    "        return mergesort(L,R)"
   ]
  },
  {
   "cell_type": "code",
   "execution_count": 30,
   "id": "889c7e25",
   "metadata": {},
   "outputs": [
    {
     "name": "stdout",
     "output_type": "stream",
     "text": [
      "mergesort output will be ->  [1, 2, 3, 4, 5, 6, 7, 8, 9]\n",
      "merge output will be ->  [-40, -5, -1, 10, 54, 60, 65, 70, 80, 90, 100, 200]\n"
     ]
    }
   ],
   "source": [
    "        \n",
    "list1=[1,2,3,4]\n",
    "list2=[5,6,7,8,9]\n",
    "nlist=[100,80,90,200,-1,10,-40,-5,60,70,65,54]\n",
    "nlist1=[102,0,9,20,-1,40,-30,80,77,96,45]\n",
    "print(\"mergesort output will be -> \",mergesort(list1,list2))\n",
    "print(\"merge output will be -> \",merge(nlist,0,len(nlist)))"
   ]
  },
  {
   "cell_type": "code",
   "execution_count": 27,
   "id": "496c1883",
   "metadata": {},
   "outputs": [],
   "source": [
    "def merge(nums,left,right):\n",
    "    if right-left<=1:\n",
    "        return nums[left:right]\n",
    "    if right-left>1:\n",
    "        mid=(left+right)//2\n",
    "        L=merge(nums,left,mid)\n",
    "        R=merge(nums,mid,right)\n",
    "        return mergesort(L,R)"
   ]
  },
  {
   "cell_type": "code",
   "execution_count": null,
   "id": "8363104d",
   "metadata": {},
   "outputs": [],
   "source": []
  }
 ],
 "metadata": {
  "kernelspec": {
   "display_name": "Python 3 (ipykernel)",
   "language": "python",
   "name": "python3"
  },
  "language_info": {
   "codemirror_mode": {
    "name": "ipython",
    "version": 3
   },
   "file_extension": ".py",
   "mimetype": "text/x-python",
   "name": "python",
   "nbconvert_exporter": "python",
   "pygments_lexer": "ipython3",
   "version": "3.9.7"
  }
 },
 "nbformat": 4,
 "nbformat_minor": 5
}
